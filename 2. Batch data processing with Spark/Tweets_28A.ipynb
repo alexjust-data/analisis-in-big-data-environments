{
  "cells": [
    {
      "cell_type": "markdown",
      "metadata": {
        "id": "wmh-0M-EGUGt"
      },
      "source": [
        "![Spark Logo](http://spark-mooc.github.io/web-assets/images/ta_Spark-logo-small.png)  ![Python Logo](http://spark-mooc.github.io/web-assets/images/python-logo-master-v3-TM-flattened_small.png)\n",
        "# PEC 2: Parte 2, Marzo 2023\n",
        "\n",
        "## Extracción de conocimiento de fuentes de datos heterogéneas mediante Spark SQL, RDDs y GraphFrames\n",
        "\n",
        "En esta práctica vamos a introducir estructuras de datos más complejas que las vistas hasta ahora, donde los campos pueden a su vez tener campos anidados. En concreto utilizaremos datos de twitter capturados en el contexto de las elecciones generales en España del 28 de Abril de 2019. La práctica está estructurada de la siguiente manera:\n",
        "- **Parte 0:** Configuración del entorno\n",
        "- **Parte 1:** Introducción a data frames estructurados y cómo operar extraer información *(3 puntos)*\n",
        "    - **Parte 1.1:** Importar los datos *(1 puntos)*\n",
        "    - **Parte 1.2:** *Queries* sobre sobre data frames complejos *(2 puntos)*\n",
        "        - **Parte 1.2.1:** Queries SQL *(1 puntos)*\n",
        "        - **Parte 1.2.2:** Queries sobre el pipeline *(1 puntos)*\n",
        "- **Parte 2:** Bases de datos HIVE y operaciones complejas *(3 puntos)*\n",
        "    - **Parte 2.1:** Bases de datos Hive *(1 puntos)*\n",
        "    - **Parte 2.2:** Más allá de las transformaciones SQL *(2 puntos)*\n",
        "        - **Parte 2.2.1:** Tweets por población  *(1 puntos)*\n",
        "        - **Parte 2.2.2:** Contar hashtags *(1 puntos)*\n",
        "- **Parte 3:** Sampling *(2 Puntos)*\n",
        "- **Parte 4**: Introducción a los datos relacionales *(2 puntos)*\n",
        "     - **Parte 4.1**: Construcción de la edgelist *(1 puntos)*\n",
        "     - **Parte 4.2**: Centralidad de grado *(1 puntos)*\n"
      ]
    },
    {
      "cell_type": "markdown",
      "metadata": {
        "id": "_ASnskRaGUGx"
      },
      "source": [
        "## **Parte 0:** Configuración del entorno"
      ]
    },
    {
      "cell_type": "code",
      "execution_count": null,
      "metadata": {
        "id": "M4cBeU1mGUGx"
      },
      "outputs": [],
      "source": [
        "import findspark\n",
        "findspark.init()"
      ]
    },
    {
      "cell_type": "code",
      "execution_count": null,
      "metadata": {
        "id": "zBk3wYlHGUGz"
      },
      "outputs": [],
      "source": [
        "import re\n",
        "import os\n",
        "import pandas as pd\n",
        "from matplotlib import pyplot as plt\n",
        "from math import floor\n",
        "from pyspark import SparkConf, SparkContext, SQLContext, HiveContext\n",
        "from pyspark.sql import Row"
      ]
    },
    {
      "cell_type": "code",
      "execution_count": null,
      "metadata": {
        "id": "D93AkKtEGUGz"
      },
      "outputs": [],
      "source": [
        "SUBMIT_ARGS = \"--packages graphframes:graphframes:0.7.0-spark2.4-s_2.11 pyspark-shell\"\n",
        "os.environ[\"PYSPARK_SUBMIT_ARGS\"] = SUBMIT_ARGS\n",
        "\n",
        "conf = SparkConf()\n",
        "conf.setMaster(\"local[1]\")\n",
        "# Introducid el nombre de la app PEC3_ seguido de vuestro nombre de usuario\n",
        "conf.setAppName(<FILL IN>)\n",
        "sc = SparkContext(conf=conf)"
      ]
    },
    {
      "cell_type": "markdown",
      "metadata": {
        "id": "n2qE1sQRGUG0",
        "toc-hr-collapsed": false
      },
      "source": [
        "## **Parte 1:** Introducción a data frames estructurados y operaciones sobre ellos.\n",
        "\n",
        "Como ya se ha mencionado, en esta práctica vamos ha utilizar datos de Twitter que recolectamos durante las elecciones generales en España del 28 de abril de 2019. Como veremos, los tweets tienen una estructura interna bastante compleja que hemos simplificado un poco en esta práctica.\n",
        "\n",
        "### **Parte 1.1:** Importar los datos\n",
        "\n",
        "Lo primero que vamos ha aprender es cómo importar este tipo de datos a nuestro entorno. Uno de los tipos de archivos más comunes para guardar este formato de información es [la estructura JSON](https://en.wikipedia.org/wiki/JSON). Esta estructura permite guardar información en un texto plano de diferentes objetos siguiendo una estructura de diccionario donde cada campo tiene asignado una llave y un valor. La estructura puede ser anidada, o sea que una llave puede tener como valor otra estructura tipo diccionario.\n",
        "\n",
        "Spark SQL permite leer datos de muchos formatos diferentes (como recordareis de la anterior práctica donde leímos un fichero CSV). En esta ocasión, se os pide que leáis un fichero JSON de la ruta ```/aula_22.419/data/tweets28a_sample.json```. Este archivo contiene un pequeño *sample*, un 0.1% de la base de datos completa (en un siguiente apartado veremos cómo realizar este *sampleado*). En esta ocasión no se os pide especificar la estructura del data frame ya que la función de lectura la inferirá automáticamente.\n"
      ]
    },
    {
      "cell_type": "code",
      "execution_count": null,
      "metadata": {
        "id": "3R3EQBVYGUG0"
      },
      "outputs": [],
      "source": [
        "sqlContext = SQLContext(sc)\n",
        "tweets_sample = sqlContext.read.json(<FILL IN>)\n",
        "\n",
        "print(\"Loaded dataset contains %d tweets\" % tweets_sample.count())"
      ]
    },
    {
      "cell_type": "markdown",
      "metadata": {
        "id": "Dj93OIWeGUG1"
      },
      "source": [
        "El siguiente paso es mostrar la estructura del dataset que acabamos de cargar. Recordad que podéis obtener la información acerca de cómo está estructurado el DataTable utilizando el método ```printSchema()```."
      ]
    },
    {
      "cell_type": "code",
      "execution_count": null,
      "metadata": {
        "id": "9sL3masaGUG1"
      },
      "outputs": [],
      "source": [
        "tweets_sample.<FILL IN>"
      ]
    },
    {
      "cell_type": "markdown",
      "metadata": {
        "id": "Fv0DNkyYGUG2"
      },
      "source": [
        "Podéis observar que la estructura del tweet contiene múltiples campos anidados. Teneis que familiarizaros con esta estructura ya que será la que utilizaremos durante toda la práctica. Recordad también que no todos los tweets tienen todos los campos, como por ejemplo la ubicación (campo ```place```). Cuando esto pasa el campo pasa a ser ```NULL```. Podéis ver mas información sobre este tipo de datos en [este enlace](https://developer.twitter.com/en/docs/tweets/data-dictionary/overview/tweet-object)."
      ]
    },
    {
      "cell_type": "markdown",
      "metadata": {
        "id": "2tvG-wtZGUG2",
        "toc-hr-collapsed": false
      },
      "source": [
        "### **Parte 1.2:** *Queries* sobre sobre data frames complejos\n",
        "\n",
        "En esta parte vamos a introducir conceptos sobre cómo trabajar con data tables."
      ]
    },
    {
      "cell_type": "markdown",
      "metadata": {
        "id": "RfQmHucCGUG2"
      },
      "source": [
        "#### **Parte 1.2.1:** Queries SQL\n",
        "\n",
        "El primer paso consiste en registrar la tabla en el contexto SQL comprobando primero si existe y borrándola en el caso que sea así. En este apartado se os pide que registréis la tabla ```tweets_sample``` que acabamos de cargar en el contexto sql bajo el mismo nombre ```tweets_sample```."
      ]
    },
    {
      "cell_type": "code",
      "execution_count": null,
      "metadata": {
        "id": "eld-cll_GUG2"
      },
      "outputs": [],
      "source": [
        "sqlContext.sql(<FILL IN>)\n",
        "sqlContext.registerDataFrameAsTable(<FILL IN>)"
      ]
    },
    {
      "cell_type": "markdown",
      "metadata": {
        "id": "gjbyKTvOGUG3"
      },
      "source": [
        "Ahora se os pide que creeis una tabla ```users_agg``` con [la información agregada](https://www.w3schools.com/sql/sql_groupby.asp) de los usuarios que tengan definido su idioma (```user.lang```) como español (```es```). En concreto se os pide que la tabla contenga las siguientes columnas:\n",
        "- **screen_name:** nombre del usuario\n",
        "- **friends_count:** número máximo (ver nota) de personas a las que sigue\n",
        "- **tweets:** número de tweets realizados\n",
        "- **followers_count:** número máximo (ver nota) personas que siguen al usuario.\n",
        "\n",
        "El orden en el cual se deben mostrar los registros es orden descendente acorde al número de tweets.\n",
        "\n",
        "***Nota:*** es importante que os fijéis que el nombre de *friends* i *followers* puede diferir a lo largo de la adquisición de datos. En este caso vamos ha utilizar la función de agregación ```MAX``` sobre cada uno de estos campos para evitar segmentar el usuario en diversas instancias."
      ]
    },
    {
      "cell_type": "code",
      "execution_count": null,
      "metadata": {
        "id": "M0MmT_DBGUG3"
      },
      "outputs": [],
      "source": [
        "users_agg = sqlContext.sql(\"\"\"  SELECT <FILL_IN>, MAX(user.friends_count) AS friends_count, <FILL_IN>, MAX(user.followers_count) AS followers_count\n",
        "                                FROM tweets_sample\n",
        "                                WHERE user.lang == 'es'\n",
        "                                GROUP BY <FILL_IN>\n",
        "                                ORDER BY <FILL_IN>\"\"\")\n",
        "users_agg.limit(10).show()"
      ]
    },
    {
      "cell_type": "code",
      "execution_count": null,
      "metadata": {
        "id": "j-ECTvkjGUG3"
      },
      "outputs": [],
      "source": [
        "output = users_agg.first()\n",
        "assert output.screen_name == 'anaoromi' and output.friends_count == 6258 and output.tweets == 16 and output.followers_count == 6774, \"Incorrect output\""
      ]
    },
    {
      "cell_type": "markdown",
      "metadata": {
        "id": "551-Szm6GUG4"
      },
      "source": [
        "Imaginad ahora que queremos combinar la información que acabamos de generar con información acerca del número de veces que un usuario ha sido retuiteado. Para hacer este tipo de combinaciones necesitamos recurrir al [```JOIN``` de tablas](https://www.w3schools.com/sql/sql_join.asp). Primero debemos registrar la tabla que acabamos de generar en el contexto SQL. Recordad que primero debéis comprobar si la tabla existe y en caso afirmativo eliminarla ('drop table if exists <tabla>'). La tabla tenéis que registrarla bajo el nombre de ```user_agg```."
      ]
    },
    {
      "cell_type": "code",
      "execution_count": null,
      "metadata": {
        "id": "RUrrffcJGUG4"
      },
      "outputs": [],
      "source": [
        "sqlContext.sql(<FILL IN>)\n",
        "sqlContext.registerDataFrameAsTable(<FILL IN>)"
      ]
    },
    {
      "cell_type": "markdown",
      "metadata": {
        "id": "MwLsGWbeGUG4"
      },
      "source": [
        "Una vez registrada se pide que combinéis esta tabla y la tabla ```tweets_sample``` utilizando un ```INNER JOIN``` para obtener una nueva tabla con la siguiente información:\n",
        "- ***screen_name:*** nombre de usuario\n",
        "- ***friends_count:*** número máximo de personas a las que sigue\n",
        "- ***followers_count:*** número máximo de personas que siguen al usuario.\n",
        "- ***tweets:*** número de tweets realizados por el usuario.\n",
        "- ***retweeted:*** número de retweets obtenidos por el usuario.\n",
        "- ***ratio_tweet_retweeted:*** ratio de retweets por número de tweets publicados $\\frac{retweets}{tweets}$"
      ]
    },
    {
      "cell_type": "code",
      "execution_count": null,
      "metadata": {
        "id": "I4RPdH8qGUG4"
      },
      "outputs": [],
      "source": [
        "retweeted = sqlContext.sql(\"\"\"  SELECT <FILL IN>, COUNT(*) / user_agg.tweets AS ratio_tweet_retweeted\n",
        "                                FROM user_agg\n",
        "                                INNER JOIN tweets_sample\n",
        "                                WHERE <FILL IN>\n",
        "                                GROUP BY user_agg.screen_name, user_agg.friends_count, user_agg.followers_count, user_agg.tweets\n",
        "                                ORDER BY <FILL IN> DESC\"\"\")\n",
        "\n",
        "retweeted.limit(10).show()"
      ]
    },
    {
      "cell_type": "code",
      "execution_count": null,
      "metadata": {
        "id": "ixMKO0CsGUG5"
      },
      "outputs": [],
      "source": [
        "output = retweeted.first()\n",
        "assert output.screen_name == 'PSOE' and output.friends_count == 13635 and output.tweets == 1 and output.followers_count == 671073 and output.ratio_tweet_retweeted == 155.0 and output.retweeted == 155, \"Incorrect output\""
      ]
    },
    {
      "cell_type": "markdown",
      "metadata": {
        "id": "S4Co-KvEGUG5"
      },
      "source": [
        "#### **Parte 1.2.2:** Queries a través de la API\n",
        "\n",
        "Las tablas de Spark SQL ofrecen otro mecanismo para aplicar las transformaciones y obtener resultados similares a los que se obtendría aplicando una consulta SQL. Por ejemplo utilizando el siguiente pipeline obtendremos el texto de todos los tweets en español:\n",
        "\n",
        "```\n",
        "tweets_sample.where(\"lang == 'es'\").select(\"text\")\n",
        "```\n",
        "\n",
        "Que es equivalente a la siguiente sentencia SQL:\n",
        "\n",
        "```\n",
        "SELECT text\n",
        "FROM tweets_sample\n",
        "WHERE lang == 'es'\n",
        "```\n",
        "\n",
        "Podéis consultar el [API de spark SQL](https://spark.apache.org/docs/2.4.0/api/python/pyspark.sql.html) para encontrar más información sobre como utilitzar las diferentes transformaciones en tablas.\n",
        "\n",
        "En este ejercicio se os pide que repliquéis la query obtenida en el apartado anterior empezando por generar la tabla ```users_agg```. Podéis utilizar las transformaciones ```where```, ```select``` (o ```selectExpr```), ```groupBy```, ```count```, ```agg``` y ```orderBy```"
      ]
    },
    {
      "cell_type": "code",
      "execution_count": null,
      "metadata": {
        "id": "_IMzsk98GUG7"
      },
      "outputs": [],
      "source": [
        "users = tweets_sample.where(\"user.lang == 'es'\").select(<FILL IN>)\n",
        "\n",
        "users_agg = users.groupBy(<FILL IN>)\\\n",
        "                 .agg({\"screen_name\":\"count\", \"followers_count\":\"max\", \"friends_count\":\"max\"})\\\n",
        "                 .orderBy(\"count(screen_name)\", ascending=False)\n",
        "\n",
        "users_agg.limit(10).show()"
      ]
    },
    {
      "cell_type": "markdown",
      "metadata": {
        "id": "gGAzPr-MGUG7"
      },
      "source": [
        "Si os fijáis veréis que el nombre de las columnas no corresponde con el obtenido anteriormente, podéis cambiar el nombre de una columna determinada utilizando la transformación ```withColumnRenamed```. Cambiad el nombre de las columnas para que coincidan con el apartado anterior y guardadlas en una variable ```user_agg_new```."
      ]
    },
    {
      "cell_type": "code",
      "execution_count": null,
      "metadata": {
        "id": "XrFU4iP6GUG7"
      },
      "outputs": [],
      "source": [
        "users_agg_new = users_agg.withColumnRenamed(\"max(friends_count)\", \"friends_count\")\\\n",
        "                         .withColumnRenamed(<FILL IN>)\\\n",
        "                         .withColumnRenamed(<FILL IN>)\n",
        "\n",
        "users_agg_new.limit(10).show()"
      ]
    },
    {
      "cell_type": "code",
      "execution_count": null,
      "metadata": {
        "id": "dgU_U8vWGUG7"
      },
      "outputs": [],
      "source": [
        "output = users_agg_new.first()\n",
        "assert output.screen_name == 'anaoromi' and output.friends_count == 6258 and output.tweets == 16 and output.followers_count == 6774, \"Incorrect output\""
      ]
    },
    {
      "cell_type": "markdown",
      "metadata": {
        "id": "rX3nUTbdGUG7"
      },
      "source": [
        "Cread ahora una tabla ```user_retweets``` utilizando transformaciones que contenga dos columnas:\n",
        "- ***screen_name:*** nombre de usuario\n",
        "- ***retweeted:*** número de retweets\n",
        "\n",
        "Podéis utilizar las mismas transformaciones que en el ejercicio anterior. Ordenad la tabla en orden descendente utilizando el valor de la columna ```retweeted```."
      ]
    },
    {
      "cell_type": "code",
      "execution_count": null,
      "metadata": {
        "id": "SXQq_hqpGUG8"
      },
      "outputs": [],
      "source": [
        "user_retweets = tweets_sample.select(<FILL IN>)\\\n",
        "                             .where(\"retweeted_status.user.lang == 'es'\")\\\n",
        "                             .groupBy(<FILL IN>)\\\n",
        "                             .count()\\\n",
        "                             .withColumnRenamed(<FILL IN>)\\\n",
        "                             .orderBy(<FILL IN>)\n",
        "\n",
        "user_retweets.limit(10).show()"
      ]
    },
    {
      "cell_type": "code",
      "execution_count": null,
      "metadata": {
        "id": "Q8Idkd_jGUG8"
      },
      "outputs": [],
      "source": [
        "output = user_retweets.first()\n",
        "assert output.screen_name == 'vox_es' and output.retweeted == 299, \"Incorrect output\""
      ]
    },
    {
      "cell_type": "markdown",
      "metadata": {
        "id": "6nmAyq16GUG8"
      },
      "source": [
        "Otra manera de combinar dos tablas es utilizando el [metodo de tabla ```join```](https://spark.apache.org/docs/2.4.0/api/python/pyspark.sql.html). Combinad la información de la tabla ```users_agg_new``` y ```user_retweets``` en una nueva tabla ```retweeted``` utilizando la columna ```screen_name```. Ordenad la nueva tabla en orden descendente con el nombre de retweets."
      ]
    },
    {
      "cell_type": "code",
      "execution_count": null,
      "metadata": {
        "id": "dLtDccNbGUG8"
      },
      "outputs": [],
      "source": [
        "retweeted = users_agg_new.join(<FILL IN>)\\\n",
        "                         .orderBy(\"retweeted\", ascending = False)\n",
        "\n",
        "retweeted.limit(10).show()"
      ]
    },
    {
      "cell_type": "code",
      "execution_count": null,
      "metadata": {
        "id": "BPI1fQ8QGUG8"
      },
      "outputs": [],
      "source": [
        "output = retweeted.first()\n",
        "assert output.screen_name == 'PSOE' and output.friends_count == 13635 and output.tweets == 1 and output.followers_count == 671073 and output.retweeted == 155, \"Incorrect output\""
      ]
    },
    {
      "cell_type": "markdown",
      "metadata": {
        "id": "RmdB3_lNGUG8"
      },
      "source": [
        "Notaréis que algunos de los registros que aparecen en la tabla ```users_retweeted``` no están presentes en la tabla retweeted. Esto es debido a que, por defecto, el método aplica un inner join y por tanto solo combina los registros presentes en ambas tablas. Podéis cambiar este comportamiento a través de los parámetros de la función.\n",
        "\n",
        "Para terminar esta parte y reconstruir el resultado del apartado 1.2.1 vamos a añadir una columna ```ratio_tweet_retweeted``` con información del ratio entre retweets y tweets. Para ello debéis utilizar la transformación ```withColumn```. El resultado debe estar ordenado considerando esta nueva columna en orden descendente."
      ]
    },
    {
      "cell_type": "code",
      "execution_count": null,
      "metadata": {
        "id": "aZPkN3TpGUG8"
      },
      "outputs": [],
      "source": [
        "retweeted = retweeted.withColumn(<FILL_IN>, retweeted[<FILL_IN_NOMBRE_COL>] / retweeted[<FILL_IN_NOMBRE_COL>]).orderBy(<FILL_IN>)\n",
        "retweeted.limit(10).show()"
      ]
    },
    {
      "cell_type": "code",
      "execution_count": null,
      "metadata": {
        "id": "pKmQvo-dGUG9"
      },
      "outputs": [],
      "source": [
        "output = retweeted.first()\n",
        "assert output.screen_name == 'PSOE' and output.friends_count == 13635 and output.tweets == 1 and output.followers_count == 671073 and output.ratio_tweet_retweeted == 155.0 and output.retweeted == 155, \"Incorrect output\""
      ]
    },
    {
      "cell_type": "markdown",
      "metadata": {
        "id": "1QvvaxglGUG9",
        "toc-hr-collapsed": false
      },
      "source": [
        "## **Parte 2:** Bases de datos HIVE y operaciones complejas\n",
        "\n",
        "Hasta ahora hemos estado trabajando con un pequeño sample de los tweets generados (el 0.1%). En esta parte de la PEC vamos a ver como trabajar y tratar con el dataset completo. Para ello vamos ha utilizar tanto transformaciones sobre tablas como operaciones sobre RDD cuando sea necesario."
      ]
    },
    {
      "cell_type": "markdown",
      "metadata": {
        "id": "zqSfN7McGUG9"
      },
      "source": [
        "### **Parte 2.1:** Bases de datos Hive\n",
        "\n",
        "Muchas veces los datos con los que vamos ha trabajar se van a utilizar en diversos proyectos. Una manera de organizar los datos es, en lugar de utilizar directamente los ficheros, recurrir a una base de datos para gestionar la información. En el entorno Hadoop una de las bases de datos más utilizadas es [Apache Hive](https://hive.apache.org/), una base de datos que permite trabajar con contenido distribuido.\n",
        "\n",
        "La manera de acceder a esta base de datos es creando un contexto Hive de manera muy similar a como declaramos un contexto SQL. Primero de todo vamos a declarar un variable ```hiveContext``` instanciándola como un objeto de la classe ```HiveContext```. Acto seguido vamos a comprobar cuantas tablas están registradas en este contexto."
      ]
    },
    {
      "cell_type": "code",
      "execution_count": null,
      "metadata": {
        "id": "4uUhHlKXGUG9"
      },
      "outputs": [],
      "source": [
        "hiveContext = HiveContext(sc)\n",
        "hiveContext.tables().show()"
      ]
    },
    {
      "cell_type": "markdown",
      "metadata": {
        "id": "tT5Lzi2dGUG9"
      },
      "source": [
        "Observad que ahora mismo tenemos cinco tablas registradas en este contexto. Tres de ellas no temporales y dos temporales, las que hemos registrado previamente. Por tanto sqlContext y hiveContext están concetados (es la misma sessión)\n",
        "\n",
        "Vamos ha crear una variable ```tweets``` que utilizaremos para acceder a la tabla ```tweets28a``` guardada en ```hiveContext``` utilizando para ello el método ```table()``` de este objeto."
      ]
    },
    {
      "cell_type": "code",
      "execution_count": null,
      "metadata": {
        "id": "psEvAQUEGUG9"
      },
      "outputs": [],
      "source": [
        "tweets = hiveContext.table(<FILL_IN>)\n",
        "print(\"Loaded dataset contains {} tweets\".format(tweets.count()))"
      ]
    },
    {
      "cell_type": "markdown",
      "metadata": {
        "id": "mGlfGwuHGUG9"
      },
      "source": [
        "Utilizando el mismo método que en el apartado 1.1, comprobad la estructura de la tabla que acabamos de cargar con ```printSchema()```"
      ]
    },
    {
      "cell_type": "code",
      "execution_count": null,
      "metadata": {
        "id": "SC61HsFsGUG9"
      },
      "outputs": [],
      "source": [
        "<FILL IN>"
      ]
    },
    {
      "cell_type": "markdown",
      "metadata": {
        "id": "oTDFYQzlGUG-",
        "toc-hr-collapsed": false
      },
      "source": [
        "### **Parte 2.2:** Más allá de las transformaciones SQL\n",
        "\n",
        "Algunas veces vamos a necesitar obtener resultados que precisan operaciones que van más allá de lo que podemos conseguir utilizando el lenguaje SQL. En esta parte de la práctica vamos practicar cómo pasar de una tabla a un RDD, para hacer operaciones complejas, y luego volver a pasar a una tabla."
      ]
    },
    {
      "cell_type": "markdown",
      "metadata": {
        "id": "SyzhlfUFGUG-",
        "toc-hr-collapsed": false
      },
      "source": [
        "#### **Parte 2.2.1:** Tweets por población\n",
        "\n",
        "Un pequeño porcentaje, alrededor del 1%, de los tweets realizados está geolocalizado. Eso quiere decir que para estos tweets tenemos información acerca del lugar donde han sido realizados guardado en el campo ```place```. En este ejercicio se pide que utilizando una sentencia SQL mostréis en orden descendente cuántos tweets se han realizado en cada lugar. La tabla resultante ```tweets_place``` debe tener las siguientes columnas:\n",
        "- ***name:*** nombre del lugar\n",
        "- ***tweets:*** número de tweets\n",
        "\n",
        "Recordad que no todos los tweets en la base de datos tienen que tener información geolocalizada, tenéis que filtrarlos teniendo en cuenta todos los que tienen un valor no nulo."
      ]
    },
    {
      "cell_type": "code",
      "execution_count": null,
      "metadata": {
        "id": "kOMIut4rGUG-"
      },
      "outputs": [],
      "source": [
        "tweets_place = hiveContext.sql(\"\"\"  SELECT place.name, <FILL_IN>\n",
        "                                    FROM tweets28a\n",
        "                                    WHERE place IS NOT NULL\n",
        "                                    GROUP BY <FILL_IN>\n",
        "                                    ORDER BY <FILL_IN>\"\"\")\n",
        "tweets_place.limit(10).show()"
      ]
    },
    {
      "cell_type": "code",
      "execution_count": null,
      "metadata": {
        "id": "nbT2HdsMGUG-"
      },
      "outputs": [],
      "source": [
        "output = tweets_place.first()\n",
        "assert output.name == \"Madrid\" and output.tweets == 19655, \"Incorrect output\""
      ]
    },
    {
      "cell_type": "markdown",
      "metadata": {
        "id": "8hTeGFtnGUG-"
      },
      "source": [
        "#### **Parte 2.2.2:** Contar hashtags\n",
        "\n",
        "Como seguro que habéis observado la semántica de la sentencia SQL es mucho más limpia que trabajar con RDDs para realizar muchas tareas, pero no todas las que os vais a encontrar se pueden hacer mediante sentencias SQL. En este ejercicio vamos a ver un ejemplo.\n",
        "\n",
        "El objetivo de este ejercicio es contar el número de veces que cada hashtag (palabras precedidas por un #) ha aparecido en el dataset. Para evitar la sobrerrepresentación debida a los retweets vamos a concentrarnos en solo aquellos tweets que no son retweets de ningún otro, o dicho de otra manera, en aquellos en los que el campo ```retweeted_status``` es nulo. Cread una variable ```non_retweets``` que contenga todos estos tweets."
      ]
    },
    {
      "cell_type": "code",
      "execution_count": null,
      "metadata": {
        "id": "Gwon1opoGUG-"
      },
      "outputs": [],
      "source": [
        "non_retweets = tweets.where(\"retweeted_status IS NULL\")"
      ]
    },
    {
      "cell_type": "markdown",
      "metadata": {
        "id": "avG-xtDqGUG_"
      },
      "source": [
        "Seguidamente vamos ha crear una variable ```hashtags``` que contenga una lista de tuplas con la información ```(hashtag, count)```. Para ello, cread un RDD que contenga una lista con el texto de todos los tweets. Una vez hecho este paso tenéis que extraer los hashtags (palabras precedidas por un #) y contarlos.\n",
        "\n",
        "Recordad los conocimientos adquiridos en la PEC 'word count' y el anterior ejercicio, os serán de gran ayuda."
      ]
    },
    {
      "cell_type": "code",
      "execution_count": null,
      "metadata": {
        "id": "A0S68bKCGUG_"
      },
      "outputs": [],
      "source": [
        "# Puede modificarse si se considera conveniente el map y el flatMap\n",
        "hashtags = non_retweets.select(\"text\").rdd.map(<FILL IN>)\n",
        "                                          .flatMap(lambda line: re.findall(r\"#[\\w']+\", line)\n",
        "\n",
        "hashtags = hashtags.map(<FILL IN>).reduceByKey(<FILL IN>)"
      ]
    },
    {
      "cell_type": "markdown",
      "metadata": {
        "id": "ciMb5GI4GUG_"
      },
      "source": [
        "Finalmente, se os pide que con el RDD obtenido generéis una tabla ```hashtagsTable``` compuesta de dos columnas:\n",
        "- ***hashtag***\n",
        "- ***num:*** número de veces que aparece cada hashtag.\n",
        "\n",
        "Ordenadla en orden descendente por número de tweets."
      ]
    },
    {
      "cell_type": "code",
      "execution_count": null,
      "metadata": {
        "id": "XV_NgL0oGUG_"
      },
      "outputs": [],
      "source": [
        "hashtagsTable = hashtags.map(lambda row: Row(hashtag=row[0], num=row[1]))\\\n",
        "                        .toDF()\\\n",
        "                        .orderBy(<FILL IN>)\n",
        "\n",
        "hashtagsTable.limit(20).show()"
      ]
    },
    {
      "cell_type": "code",
      "execution_count": null,
      "metadata": {
        "id": "HfsRziG9GUG_"
      },
      "outputs": [],
      "source": [
        "output = hashtagsTable.first()\n",
        "assert output.hashtag == \"#28A\" and output.num == 158124, \"Incorrect output\""
      ]
    },
    {
      "cell_type": "markdown",
      "metadata": {
        "id": "907RhzRjGUG_",
        "toc-hr-collapsed": false
      },
      "source": [
        "## **Parte 3:** Sampling\n",
        "\n",
        "En muchas ocasiones, antes de lanzar costoso procesos, es una práctica habitual tratar con un pequeño conjunto de los datos para investigar algunas propiedades o simplemente para debugar nuestros algoritmos, a esta tarea se la llama sampling."
      ]
    },
    {
      "cell_type": "markdown",
      "metadata": {
        "id": "8iVwpgsRGUG_"
      },
      "source": [
        "El sampling aplicado es [el homogeneo](https://en.wikipedia.org/wiki/Simple_random_sample). Este sampling se basta en simplemente escoger una fracción de la población seleccionando aleatoriamente elementos de la misma.\n",
        "\n",
        "Primero de todo vamos ha realizar un sampling homogéneo del 1% de los tweets generados en periodo electoral sin reemplazo. Guardad en una variable ```tweets_sample``` este sampling utilizando el método ```sample``` descrito en la [API de pyspark SQL](https://spark.apache.org/docs/2.4.0/api/python/pyspark.sql.html). El seed que vais a utilizar para inicializar el generador aleatorio es 42."
      ]
    },
    {
      "cell_type": "code",
      "execution_count": null,
      "metadata": {
        "id": "4jPfvfgEGUG_"
      },
      "outputs": [],
      "source": [
        "seed = 42\n",
        "fraction = 0.01\n",
        "\n",
        "tweets_sample = tweets.sample(False, <FILL IN>)\n",
        "\n",
        "print(\"Number of tweets sampled: {0}\".format(tweets_sample.count()))"
      ]
    },
    {
      "cell_type": "code",
      "execution_count": null,
      "metadata": {
        "id": "w-TJslJ6GUHA"
      },
      "outputs": [],
      "source": [
        "assert tweets_sample.count() == 254364, \"Incorrect output\""
      ]
    },
    {
      "cell_type": "markdown",
      "metadata": {
        "id": "SaQedjXSGUHA"
      },
      "source": [
        "Una de las cosas que resulta interesante comprobar acerca de los patrones de uso de las redes sociales es el patrón de uso diario. En este caso nos interesa el número promedio de tweets que se genera cada hora del día. Para extraer esta información lo que haremos primero, será generar una tabla ```tweets_timestamp``` con la información:\n",
        "- ***created_at***: timestamp de cuando se publicó el tweet.\n",
        "- ***hour***: a que hora del dia corresponde.\n",
        "- ***day***: Fecha en formato MM-dd-YY\n",
        "\n",
        "La fecha que figura en la base de datos esta en la franja horaria GMT. El primer paso es pasar esta información al horario peninsular de España, podéis utilizar la función ```from_utc_timestamp``` para este fin. Así mismo, la función ```hour``` os servirá para extraer la hora del timestamp y la función ```date_format``` os permitirá generar la fecha."
      ]
    },
    {
      "cell_type": "code",
      "execution_count": null,
      "metadata": {
        "id": "YQKaC5yAGUHA"
      },
      "outputs": [],
      "source": [
        "from pyspark.sql.functions import date_format, hour, from_utc_timestamp\n",
        "\n",
        "tweets_timestamp = tweets_sample.select(\"created_at\")\n",
        "tweets_timestamp = tweets_timestamp.withColumn(\"created_at\", from_utc_timestamp(<FILL_IN>))\n",
        "tweets_timestamp = tweets_timestamp.withColumn(\"hour\",  <FILL_IN>)\\\n",
        "                                   .withColumn(<FILL_IN>)\n",
        "tweets_timestamp.limit(20).show()"
      ]
    },
    {
      "cell_type": "markdown",
      "metadata": {
        "id": "c1SndGF7GUHA"
      },
      "source": [
        "El paso siguiente es agregar estos datos por hora y día en una tabla ```tweets_hour_day```. Tenéis que crear una tabla ```tweets_hour``` con la información:\n",
        "- ***hour:*** hora del dia\n",
        "- ***day:*** fecha\n",
        "- ***count:*** número de tweets generados"
      ]
    },
    {
      "cell_type": "code",
      "execution_count": null,
      "metadata": {
        "id": "6DlTy-B2GUHA"
      },
      "outputs": [],
      "source": [
        "tweets_hour_day = tweets_timestamp.groupBy(<FILL_IN>,<FILL_IN>).count()\n",
        "\n",
        "tweets_hour_day.limit(20).show()"
      ]
    },
    {
      "cell_type": "markdown",
      "metadata": {
        "id": "QMhAmufaGUHA"
      },
      "source": [
        "Por último solo nos queda hacer una agregación por hora para conseguir el promedio de tweets por hora. Tenéis que generar una tabla ```tweets_hour``` con la información:\n",
        "- ***hour:*** Hora\n",
        "- ***tweets:*** Promedio de tweets realizados\n",
        "\n",
        "Recordad que estamos trabajando con un sample del 1% por tanto tenéis que corregir la columna ```tweets``` para que refleje el promedio que deberíamos esperar en el conjunto completo de tweets. La tabla tiene que estar ordenada en orden ascendente de hora."
      ]
    },
    {
      "cell_type": "code",
      "execution_count": null,
      "metadata": {
        "id": "0i34Gpq7GUHC"
      },
      "outputs": [],
      "source": [
        "tweets_hour = tweets_hour_day.groupBy(<FILL_IN>)\\\n",
        "                             .avg(<FILL_IN>)\\\n",
        "                             .orderBy(<FILL_IN>)\\\n",
        "                             .withColumnRenamed(<FILL_IN>)\n",
        "            \n",
        "tweets_hour = tweets_hour.withColumn(\"tweets\", tweets_hour.tweets / fraction)\n",
        "tweets_hour.limit(24).show()\n"
      ]
    },
    {
      "cell_type": "markdown",
      "metadata": {
        "id": "AB4vQ-xkGUHC"
      },
      "source": [
        "Por último, tenéis que producir un gráfico de barras utilizando Pandas (pasamos el dataframe a Pandas) donde se muestre la información que acabáis de generar."
      ]
    },
    {
      "cell_type": "code",
      "execution_count": null,
      "metadata": {
        "id": "2iw6XjQ2GUHD"
      },
      "outputs": [],
      "source": [
        "tweets_hour_pd = tweets_hour.toPandas()\n",
        "tweets_hour_pd.plot.bar(<FILL_IN>)"
      ]
    },
    {
      "cell_type": "markdown",
      "metadata": {
        "id": "c-VtaqK2GUHD",
        "toc-hr-collapsed": false
      },
      "source": [
        "## **Parte 4:** Introducción a los datos relacionales"
      ]
    },
    {
      "cell_type": "markdown",
      "metadata": {
        "id": "v6v0z-w0GUHD"
      },
      "source": [
        "El hecho de trabajar con una base de datos que contiene información generada en una red social nos permite introducir el concepto de datos relacionales. Podemos definir datos relacionales como aquellos en los que existen relaciones entre las entidades que constituyen la base de datos. Si estas relaciones son binarias, relaciones 1 a 1, podemos representar las relaciones como un grafo compuesto por un conjunto de vértices $\\mathcal{V}$ y un conjunto de aristas $\\mathcal{E}$ que los relacionan.\n",
        "\n",
        "En el caso de grafos que emergen de manera orgánica, este tipo de estructura va más allá de los grafos regulares que seguramente conocéis. Este tipo de estructuras se conocen como [redes complejas](https://es.wikipedia.org/wiki/Red_compleja). El estudio de la estructura y dinámicas de este tipo de redes ha contribuido a importantes resultados en campos tan dispares como la física, la sociología, la ecología o la medicina.\n",
        "\n",
        "![complex_network](https://images.squarespace-cdn.com/content/5150aec6e4b0e340ec52710a/1364574727391-XVOFAB9P6GHKTDAH6QTA/lastfm_800_graph_white.png?content-type=image%2Fpng)\n",
        "\n",
        "En esta última parte de la práctica vamos ha trabajar con este tipo de datos. En concreto vamos a modelar uno de los posibles relaciones presentes en el dataset, la red de retweets."
      ]
    },
    {
      "cell_type": "markdown",
      "metadata": {
        "id": "jj3QBdQXGUHD"
      },
      "source": [
        "### Generar la red de retweets"
      ]
    },
    {
      "cell_type": "markdown",
      "metadata": {
        "id": "Inpex3H9GUHD"
      },
      "source": [
        "#### **Parte 4.1**: Construcción de la edgelist"
      ]
    },
    {
      "cell_type": "markdown",
      "metadata": {
        "id": "MkOA8W2sGUHD"
      },
      "source": [
        "Lo primero se os pide es que generéis la red. Hay diversas maneras de representar una red compleja, por ejemplo, si estuvierais interesados en trabajar en ellas desde el punto de vista teórico, la manera más habitual de representarlas es utilizando una [matriz de adyacencia](https://es.wikipedia.org/wiki/Matriz_de_adyacencia). En esta práctica vamos a centrarnos en el aspecto computacional, una de las maneras de mas eficientes (computacionalmente hablando) de representar una red es mediante su [*edge list*](https://en.wikipedia.org/wiki/Edge_list), una tabla que especifica la relación a parejas entre las entidades.\n",
        "\n",
        "Las relaciones pueden ser bidireccionales o direccionales y tener algún peso asignado o no (weighted or unweighted). En el caso que nos ocupa, estamos hablando de una red dirigida, un usuario retuitea a otro, y podemos pensarla teniendo en cuenta cuántas veces esto ha pasado.\n",
        "\n",
        "Lo primero que haréis para simplificar el cómputo,  es crear un sample homogéneo sin reemplazo del 1% de los tweets. Utilizando los conocimientos que habéis aprendido en el apartado 3.1. Utilizaremos 42 como valor para la seed."
      ]
    },
    {
      "cell_type": "code",
      "execution_count": null,
      "metadata": {
        "id": "Vxahz1fJGUHD"
      },
      "outputs": [],
      "source": [
        "sample = tweets.sample(False, <FILL_IN>).persist()"
      ]
    },
    {
      "cell_type": "markdown",
      "metadata": {
        "id": "HwojQwBIGUHD"
      },
      "source": [
        "Ahora vais a crear una tabla ```edgelist``` con la siguiente información:\n",
        "- ***src:*** usuario que retuitea\n",
        "- ***dst:*** usuario que es retuiteado\n",
        "- ***weight:*** número de veces que un usuario retuitea a otro.\n",
        "\n",
        "Filtrar el resultado para que contenga sólo las relaciones con un weight igual o mayor a dos."
      ]
    },
    {
      "cell_type": "code",
      "execution_count": null,
      "metadata": {
        "id": "wImuemZDGUHE"
      },
      "outputs": [],
      "source": [
        "edgelist = sample.where(<FILL_IN>)\\\n",
        "                 .selectExpr(\"user.screen_name AS src\", \"retweeted_status.user.screen_name AS dst\")\n",
        "\n",
        "edgelist = edgelist.groupBy(<FILL_IN>).count().withColumnRenamed(\"count\", \"weight\").where(\"weight >= <FILL_IN>\")\n",
        "\n",
        "L = edgelist.count()\n",
        "\n",
        "print(\"There are {0} edges on the network.\".format(L))"
      ]
    },
    {
      "cell_type": "code",
      "execution_count": null,
      "metadata": {
        "id": "bbkDixqiGUHE"
      },
      "outputs": [],
      "source": [
        "assert L == 5247, \"Incorrect ouput\""
      ]
    },
    {
      "cell_type": "markdown",
      "metadata": {
        "id": "zCehZGLWGUHE"
      },
      "source": [
        "#### **Parte 4.2:** Centralidad de grado"
      ]
    },
    {
      "cell_type": "markdown",
      "metadata": {
        "id": "0XvkaBHFGUHE"
      },
      "source": [
        "Uno de los descriptores más comunes en el análisis de redes es el grado. El grado cuantifica cuántas aristas están conectadas a cada vértices. En el caso de redes dirigidas como la que acabamos de crear este descriptor está descompuesto en el:\n",
        "- **in degree**: cuantas aristas apuntan al nodo\n",
        "- **out degree**: cuantas aristas salen del nodo\n",
        "\n",
        "Si haces un ranquing de estos valores vais a obtener medida de centralidad, la [centralidad de grado](https://en.wikipedia.org/wiki/Centrality#Degree_centrality), de cada uno de los nodos.\n",
        "\n",
        "Se os pide que generéis una tabla con la información:\n",
        "- ***screen_name:*** nombre del usuario (anteriormene src).\n",
        "- ***outDegree:*** out degree del nodo.\n",
        "\n",
        "Ordenado la tabla por out degree en orden descendente."
      ]
    },
    {
      "cell_type": "code",
      "execution_count": null,
      "metadata": {
        "id": "tTfZfEOGGUHE"
      },
      "outputs": [],
      "source": [
        "outDegree = edgelist.groupBy(\"src\")\\\n",
        "                    .count()\\\n",
        "                    .orderBy(<FILL_IN>)\\\n",
        "                    .withColumnRenamed(\"count\", <FILL_IN>)\\\n",
        "                    .withColumnRenamed(\"src\", <FILL_IN>)\n",
        "outDegree.limit(20).show()"
      ]
    },
    {
      "cell_type": "code",
      "execution_count": null,
      "metadata": {
        "id": "6jvwDBaPGUHE"
      },
      "outputs": [],
      "source": [
        "output = outDegree.first()\n",
        "assert output.screen_name == \"rosavergar23\" and output.outDegree == 11, \"Incorrect output\""
      ]
    },
    {
      "cell_type": "markdown",
      "metadata": {
        "id": "NAWf7I9CGUHE"
      },
      "source": [
        "Se os pide ahora que generéis una tabla con la información:\n",
        "- ***screen_name:*** nombre del usuario (anteriormente dst).\n",
        "- ***inDegree:*** in degree del nodo.\n",
        "\n",
        "Ordenad la tabla por in degree en orden descendente."
      ]
    },
    {
      "cell_type": "code",
      "execution_count": null,
      "metadata": {
        "id": "erRzYC6MGUHE"
      },
      "outputs": [],
      "source": [
        "# Replicando el código utilizado para generar el outDegree, generad el inDegree\n",
        "inDegree = edgelist.<FILL IN>\n",
        "\n",
        "inDegree.limit(20).show()"
      ]
    },
    {
      "cell_type": "code",
      "execution_count": null,
      "metadata": {
        "id": "bQzI17PJGUHF"
      },
      "outputs": [],
      "source": [
        "output = inDegree.first()\n",
        "assert output.screen_name == \"vox_es\" and output.inDegree == 330, \"Incorrect output\""
      ]
    }
  ],
  "metadata": {
    "colab": {
      "collapsed_sections": [
        "S4Co-KvEGUG5",
        "SyzhlfUFGUG-",
        "8hTeGFtnGUG-",
        "Inpex3H9GUHD",
        "zCehZGLWGUHE"
      ],
      "provenance": []
    },
    "kernelspec": {
      "display_name": "Python 3",
      "language": "python",
      "name": "python3"
    },
    "language_info": {
      "codemirror_mode": {
        "name": "ipython",
        "version": 3
      },
      "file_extension": ".py",
      "mimetype": "text/x-python",
      "name": "python",
      "nbconvert_exporter": "python",
      "pygments_lexer": "ipython3",
      "version": "3.5.2"
    },
    "toc-autonumbering": false,
    "toc-showcode": false,
    "toc-showmarkdowntxt": false,
    "toc-showtags": false
  },
  "nbformat": 4,
  "nbformat_minor": 0
}